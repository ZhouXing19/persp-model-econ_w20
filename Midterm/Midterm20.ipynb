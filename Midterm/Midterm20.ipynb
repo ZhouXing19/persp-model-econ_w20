{
 "cells": [
  {
   "cell_type": "markdown",
   "metadata": {},
   "source": [
    "# Midterm (MACS 30150), February 10, 2020 [20 points total]\n",
    "### Zhou Xing\n",
    "You will have an hour and fifty minutes to take this exam.\n",
    "1. Put your name in the space provided above (without the brackets).\n",
    "2. Download this notebook and accompanying data `data/hh_inc_synth.txt` and images `images/hist_inc_2.png`.\n",
    "3. The class will disconnect their wi-fi and begin taking the exam.\n",
    "4. The exam is open computer, closed internet, open note.\n",
    "5. Once you are done, you will signal to a TA or instructor to come over and monitor while you reconnect to the internet and upload your edited notebook to Canvas.\n",
    "\n",
    "Remember that you must clearly indicate your answers to all questions below. We will give partial credit for partially correct answers. The midterm is worth 20 points (2 problem sets)."
   ]
  },
  {
   "cell_type": "markdown",
   "metadata": {},
   "source": [
    "# 1. Numerical Integration [10 points total]\n",
    "Assume that the distribution of household income (in U.S. dollars \\\\$) is characterized by the two-parameter gamma (GA) distribution (similar to the log normal distribution). The following is the probability density function (PDF) of the gamma (GA) distribution, which tells you the probability density of variable $x$ for given values of parameters $\\alpha$ and $\\beta$.\n",
    "\n",
    "\\begin{equation*}\n",
    "\\begin{split}\n",
    "&\\text{(GA):}\\quad f(x;\\alpha,\\beta) = \\frac{1}{\\beta^\\alpha \\Gamma(\\alpha)}x^{\\alpha-1}e^{-\\frac{x}{\\beta}}, \\quad x>0, \\:\\alpha,\\beta>0 \\\\\n",
    "&\\quad\\quad \\text{where}\\quad \\Gamma(z)\\equiv\\int_0^\\infty t^{z-1}e^{-t}dt\n",
    "\\end{split}\n",
    "\\end{equation*}\n",
    "\n",
    "Some code for the PDF of the gamma (GA) distribution is the following."
   ]
  },
  {
   "cell_type": "code",
   "execution_count": 1,
   "metadata": {},
   "outputs": [],
   "source": [
    "import numpy as np\n",
    "import scipy.special as spc\n",
    "\n",
    "def GA_pdf(xvals, alpha, beta):\n",
    "    '''\n",
    "    --------------------------------------------------------------------\n",
    "    Returns the PDF values from the two-parameter gamma (GA)\n",
    "    distribution. See McDonald and Xu (1995).\n",
    "\n",
    "    (GA): f(x; alpha, beta) = (1 / ((beta ** alpha) *\n",
    "        spc.gamma(alpha))) * (x ** (alpha - 1)) * (e ** (-x / beta))\n",
    "    x in [0, infty), alpha, beta > 0\n",
    "    --------------------------------------------------------------------\n",
    "    INPUTS:\n",
    "    xvals = (N,) vector, values in the support of gamma distribution\n",
    "    alpha = scalar > 0, gamma distribution parameter\n",
    "    beta  = scalar > 0, gamma distribution parameter\n",
    "\n",
    "    OTHER FUNCTIONS AND FILES CALLED BY THIS FUNCTION:\n",
    "        spc.gamma()\n",
    "\n",
    "    OBJECTS CREATED WITHIN FUNCTION:\n",
    "    pdf_vals = (N,) vector, pdf values from gamma distribution\n",
    "               corresponding to xvals given parameters alpha and beta\n",
    "\n",
    "    FILES CREATED BY THIS FUNCTION: None\n",
    "\n",
    "    RETURNS: pdf_vals\n",
    "    --------------------------------------------------------------------\n",
    "    '''\n",
    "    pdf_vals = \\\n",
    "        np.float64((1 / ((beta ** alpha) * spc.gamma(alpha))) *\n",
    "                   (xvals ** (alpha - 1)) * np.exp(-xvals / beta))\n",
    "\n",
    "    return pdf_vals"
   ]
  },
  {
   "cell_type": "markdown",
   "metadata": {},
   "source": [
    "As a final suggestion for numerical approximations of integrals that use this `GA_pdf()` function, you can integrate this with a `lambda function` in which the `alpha` and `beta` are hard coded. For parts (b) and (c), one approach might be to define a `lambda` function like the following and use that as your input function for the `quad` command in part (c) or any of your Newton-Cotes methods in part (b)."
   ]
  },
  {
   "cell_type": "code",
   "execution_count": 2,
   "metadata": {},
   "outputs": [],
   "source": [
    "GApdf = lambda x: GA_pdf(x, alpha_1a, beta_1a)"
   ]
  },
  {
   "cell_type": "markdown",
   "metadata": {},
   "source": [
    "## 1a) Plot the GA distribution of income [2 points]\n",
    "Assume that the GA distribution coefficient values are $\\alpha=1.23$ and $\\beta=54,649.9$. Use Python to plot the GA PDF of income using 1,000 equally spaced income values between `1e-7` and \\\\$350,000 and using the `GA_pdf()` function above. Make sure your plot has an $x$-axis labeled \"income\" and a $y$-axis labeled \"density\"."
   ]
  },
  {
   "cell_type": "code",
   "execution_count": 7,
   "metadata": {},
   "outputs": [],
   "source": [
    "import matplotlib.pyplot as plt\n",
    "x = np.linspace(1e-7,350000,1000)\n",
    "y = GA_pdf(x,alpha=1.23,beta=54649.9)"
   ]
  },
  {
   "cell_type": "code",
   "execution_count": 10,
   "metadata": {},
   "outputs": [
    {
     "data": {
      "text/plain": [
       "Text(0, 0.5, 'density')"
      ]
     },
     "execution_count": 10,
     "metadata": {},
     "output_type": "execute_result"
    },
    {
     "data": {
      "image/png": "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\n",
      "text/plain": [
       "<Figure size 432x288 with 1 Axes>"
      ]
     },
     "metadata": {
      "needs_background": "light"
     },
     "output_type": "display_data"
    }
   ],
   "source": [
    "plt.plot(x,y)\n",
    "plt.title(\"1a) Plot the GA distribution of income\")\n",
    "plt.xlabel(\"income\")\n",
    "plt.ylabel(\"density\")"
   ]
  },
  {
   "cell_type": "markdown",
   "metadata": {},
   "source": [
    "## 1b) Midpoint, trapezoid, and Simpson's rule [5 points]\n",
    "Assuming $\\alpha=1.23$ and $\\beta=54,649.9$ in the gamma (GA) distribution, and using $N=30$ equally spaced bins, approximate the percent of the population with an income less than \\\\$75,000 using the midpoint rule, trapezoid rule, and Simpson's rule. The analytical expression for this percentage is given by the following integral.\n",
    "\n",
<<<<<<< HEAD
    "$$ \\int_0^{750,000}f(x;\\alpha,\\beta)dx $$\n",
=======
    "$$ \\int_0^{75,000}f(x;\\alpha,\\beta)dx $$\n",
>>>>>>> upstream/master
    "\n",
    "Report your values for this approximated itegral for the midpoint rule, trapezoid rule, and Simpson's rule, respectively."
   ]
  },
  {
   "cell_type": "code",
   "execution_count": 15,
   "metadata": {},
   "outputs": [
    {
     "name": "stdout",
     "output_type": "stream",
     "text": [
      "The approximated itegral for method midpoint is  1.014730313279919\n",
      "The approximated itegral for method trapezoid is  0.8707924773429786\n",
      "The approximated itegral for method Simpsons is  0.9667510346342721\n"
     ]
    }
   ],
   "source": [
    "\n",
    "gamma_func = lambda xvals,alpha,beta: np.float64((1 / ((beta ** alpha) * spc.gamma(alpha))) *\n",
    "                   (xvals ** (alpha - 1)) * np.exp(-xvals / beta))\n",
    "\n",
    "def integr_g_x_1(g_x_1, a, b, N, alpha, beta, method = 'midpoint'):\n",
    "    if method == \"midpoint\":\n",
    "        # Calculate vector of N+1 bar bounds\n",
    "        bin_cuts = np.linspace(a, b, N+1)\n",
    "        \n",
    "        # Calculate vector of midpoints\n",
    "        index = np.arange(N)\n",
    "        midpoints = a + (2*index + 1)* (b-a) / (2*N)\n",
    "        # Evaluate the funciton at the midpoints\n",
    "        func_value = g_x_1(midpoints,alpha,beta)\n",
    "        # Add up the area of all the bars\n",
    "        approximate = (b - a)/N * np.sum(func_value)\n",
    "        \n",
    "    elif method  == \"trapezoid\":\n",
    "        index = np.arange(N+1)\n",
    "        nodes = a + index * (b-a)/N\n",
    "        func_value = g_x_1(nodes,alpha,beta)\n",
    "        approximate = (b - a)/(N*2)*(np.sum(func_value)+np.sum(func_value[1:N]))\n",
    "        \n",
    "    elif method == \"Simpsons\":\n",
    "        index = np.arange(2*N+1)\n",
    "        nodes = a + index*(b-a)/(2*N)\n",
    "        func_value = g_x_1(nodes,alpha,beta)\n",
    "        approximate = (b-a)/ (6*N)*(func_value[0]+4*np.sum(func_value[1:2*N:2])+ \\\n",
    "                                    2 * np.sum(func_value[2:2*N-1:2]) \\\n",
    "                                    +func_value[2*N])\n",
    "                                    \n",
    "    return approximate\n",
    "\n",
    "\n",
    "int_midpoint = integr_g_x_1(gamma_func, a=0,b=750000,N=30,alpha=1.23,beta=54649.9,method='midpoint')\n",
    "int_trapezoid = integr_g_x_1(gamma_func, a=0,b=750000,N=30,alpha=1.23,beta=54649.9,method='trapezoid')\n",
    "int_Simpsons = integr_g_x_1(gamma_func, a=0,b=750000,N=30,alpha=1.23,beta=54649.9,method='Simpsons')\n",
    "print(\"The approximated itegral for method midpoint is \",int_midpoint)\n",
    "print(\"The approximated itegral for method trapezoid is \",int_trapezoid)\n",
    "print(\"The approximated itegral for method Simpsons is \",int_Simpsons)"
   ]
  },
  {
   "cell_type": "markdown",
   "metadata": {},
   "source": [
    "## 1c) Use Gaussian quadrature to approximate the integral [3 points]\n",
    "Use gaussian quadrature using the `scipy.integrate.quad()` command to approximate the percent of the population that earns less than \\\\$75,000 assuming that the population income is distributed according to the gamma (GA) distribution with parameter values $\\alpha=1.23$ and $\\beta=54,649.9$. Report your percentage that you calculated using Gaussian quadrature."
   ]
  },
  {
   "cell_type": "code",
   "execution_count": 32,
   "metadata": {},
   "outputs": [
    {
     "name": "stdout",
     "output_type": "stream",
     "text": [
      "percentage that I calculated using Gaussian quadrature is 0.6646972256281289\n"
     ]
    }
   ],
   "source": [
    "from scipy.integrate import quad\n",
    "gamma_func = lambda xvals,alpha=1.23,beta=54649.9: np.float64((1 / ((beta ** alpha) * spc.gamma(alpha))) *\n",
    "                   (xvals ** (alpha - 1)) * np.exp(-xvals / beta))\n",
    "approx = quad(gamma_func,0,75000)\n",
    "print(\"percentage that I calculated using Gaussian quadrature is\", approx[0])"
   ]
  },
  {
   "cell_type": "markdown",
   "metadata": {},
   "source": [
    "# 2. Generalized method of moments estimation [10 points total]\n",
    "Suppose that your friend at the Bureau of Labor Statistics told you the following four moments (statistics) of the U.S. household income distribution in the third column of the table.\n",
    "\n",
    "| Income range | Number of households |Percent of population |\n",
    "| :--- | ---: | :---: |\n",
    "| Less than \\\\$10,000 | 9,233 | 7.6\\% |\n",
    "| \\\\$10,000 to \\\\$100,000 | 86,431 | 71.4\\% |\n",
    "| \\\\$100,000 to \\\\$160,000 | 16,347 | 13.5\\% |\n",
    "| Greater than \\\\$160,000 | 9,074 | 7.5\\% |\n",
    "\n",
    "Assume that these incomes are generated by the lognormal distribution, specified by the following probability density function (PDF).\n",
    "\n",
    "\\begin{equation*}\n",
    "\\begin{split}\n",
    "&(LN) \\quad f(x|\\mu,\\sigma) = \\frac{1}{x\\sigma\\sqrt{2\\pi}}e^{-\\frac{[\\ln(x)] - \\mu]^2}{2\\sigma^2}} \\\\\n",
    "&\\quad\\quad\\quad\\text{for}\\quad x>0, \\quad -\\infty<\\mu<\\infty, \\quad\\text{and}\\quad \\sigma>0\n",
    "\\end{split}\n",
    "\\end{equation*}"
   ]
  },
  {
   "cell_type": "markdown",
   "metadata": {},
   "source": [
    "One could plot a histogram of the information in the table above using the following code that imports the original data `hh_inc_synth.txt` from which the histogram was generated. (NOTE that you will not need to use the original data except for plotting fitted distributions over this histogram using the exact code below.)"
   ]
  },
  {
   "cell_type": "code",
   "execution_count": 34,
   "metadata": {},
   "outputs": [
    {
     "data": {
      "text/plain": [
       "Text(0, 0.5, 'Density (area sums to 1)')"
      ]
     },
     "execution_count": 34,
     "metadata": {},
     "output_type": "execute_result"
    },
    {
     "data": {
      "image/png": "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\n",
      "text/plain": [
       "<Figure size 432x288 with 1 Axes>"
      ]
     },
     "metadata": {
      "needs_background": "light"
     },
     "output_type": "display_data"
    }
   ],
   "source": [
    "import numpy as np\n",
    "import matplotlib.pyplot as plt\n",
    "\n",
    "hh_inc_synth = np.loadtxt('data/hh_inc_synth.txt')\n",
    "\n",
    "bin_bound_list = [0, 10000, 100000, 160000, 350000]\n",
    "bin_widths = np.array([10000, 90000, 60000, 190000])\n",
    "N = len(hh_inc_synth)\n",
    "weight_inc = np.zeros(N)\n",
    "in_bin_1 = hh_inc_synth <= 10000\n",
    "in_bin_2 = (hh_inc_synth > 10000) * (hh_inc_synth <= 100000)\n",
    "in_bin_3 = (hh_inc_synth > 100000) * (hh_inc_synth <= 160000)\n",
    "in_bin_4 = hh_inc_synth > 160000\n",
    "weight_inc[in_bin_1] = 1 / (N * 10000)\n",
    "weight_inc[in_bin_2] = 1 / (N * 90000)\n",
    "weight_inc[in_bin_3] = 1 / (N * 60000)\n",
    "weight_inc[in_bin_4] = 1 / (N * 190000)\n",
    "\n",
    "n, bin_cuts, patches = \\\n",
    "    plt.hist(hh_inc_synth, bin_bound_list, edgecolor='black',\n",
    "             weights=weight_inc, label='data histogram')\n",
    "plt.title(r'Histogram of household income: $N=121,085$',\n",
    "          fontsize=13)\n",
    "plt.xticks(np.array([0, 10000, 100000, 160000, 350000]),\n",
    "           ('$0', '$10', '$100', '$160', '$350'))\n",
    "plt.xlabel(r'Household income (\\$000)')\n",
    "plt.ylabel(r'Density (area sums to 1)')"
   ]
  },
  {
   "cell_type": "markdown",
   "metadata": {},
   "source": [
    "Some python code for the PDF of the lognormal distribution is the following."
   ]
  },
  {
   "cell_type": "code",
   "execution_count": 35,
   "metadata": {},
   "outputs": [],
   "source": [
    "def LN_pdf(xvals, mu, sigma):\n",
    "    '''\n",
    "    --------------------------------------------------------------------\n",
    "    This function gives the PDF of the lognormal distribution for xvals\n",
    "    given mu and sigma\n",
    "\n",
    "    (LN): f(x; mu, sigma) = (1 / (x * sigma * sqrt(2 * pi))) *\n",
    "            exp((-1 / 2) * (((log(x) - mu) / sigma) ** 2))\n",
    "            x in [0, infty), mu in (-infty, infty), sigma > 0\n",
    "    --------------------------------------------------------------------\n",
    "    INPUTS:\n",
    "    xvals = (N,) vector, data\n",
    "    mu    = scalar, mean of the ln(x)\n",
    "    sigma = scalar > 0, standard deviation of ln(x)\n",
    "\n",
    "    OTHER FUNCTIONS AND FILES CALLED BY THIS FUNCTION: None\n",
    "\n",
    "    OBJECTS CREATED WITHIN FUNCTION:\n",
    "    pdf_vals        = (N,) vector, probability of each observation given\n",
    "                      the parameter values\n",
    "\n",
    "    FILES CREATED BY THIS FUNCTION: None\n",
    "\n",
    "    RETURNS: pdf_vals\n",
    "    --------------------------------------------------------------------\n",
    "    '''\n",
    "    pdf_vals = np.float64(((1 / (np.sqrt(2 * np.pi) * sigma * xvals)) *\n",
    "                          np.exp((-1.0 / 2.0) *\n",
    "                          (((np.log(xvals) - mu) / sigma) ** 2))))\n",
    "\n",
    "    return pdf_vals"
   ]
  },
  {
   "cell_type": "markdown",
   "metadata": {},
   "source": [
    "The following will help you to calculate your model moments. Using numerical integration of the PDF of the log normal distribution in your GMM minimization problem takes too long. The following method uses the cummulative distribution function (CDF). For a given $\\mu$ and $\\sigma$ of the log normal distribution, you can calculate the percent of a distribution between a lower bound `LB` and upper bound `UB` of income using the following code."
   ]
  },
  {
   "cell_type": "code",
   "execution_count": 36,
   "metadata": {},
   "outputs": [
    {
     "ename": "NameError",
     "evalue": "name 'UB' is not defined",
     "output_type": "error",
     "traceback": [
      "\u001b[0;31m---------------------------------------------------------------------------\u001b[0m",
      "\u001b[0;31mNameError\u001b[0m                                 Traceback (most recent call last)",
      "\u001b[0;32m<ipython-input-36-20ebd254f227>\u001b[0m in \u001b[0;36m<module>\u001b[0;34m\u001b[0m\n\u001b[1;32m      1\u001b[0m \u001b[0;32mimport\u001b[0m \u001b[0mscipy\u001b[0m\u001b[0;34m.\u001b[0m\u001b[0mstats\u001b[0m \u001b[0;32mas\u001b[0m \u001b[0msts\u001b[0m\u001b[0;34m\u001b[0m\u001b[0;34m\u001b[0m\u001b[0m\n\u001b[1;32m      2\u001b[0m \u001b[0;34m\u001b[0m\u001b[0m\n\u001b[0;32m----> 3\u001b[0;31m pct_LBtoUB = (sts.lognorm.cdf(UB, s=sigma, scale=np.exp(mu)) -\n\u001b[0m\u001b[1;32m      4\u001b[0m               sts.lognorm.cdf(LB, s=sigma, scale=np.exp(mu)))\n",
      "\u001b[0;31mNameError\u001b[0m: name 'UB' is not defined"
     ]
    }
   ],
   "source": [
    "import scipy.stats as sts\n",
    "\n",
    "pct_LBtoUB = (sts.lognorm.cdf(UB, s=sigma, scale=np.exp(mu)) -\n",
    "              sts.lognorm.cdf(LB, s=sigma, scale=np.exp(mu)))"
   ]
  },
  {
   "cell_type": "markdown",
   "metadata": {},
   "source": [
    "## 2a) Plot a log normal distribution with the histogram (2 points)\n",
    "Plot a log normal distribution with mean $\\mu=11.5$ and $\\sigma=0.9$ using the `LN_pdf()` code for the lognorm PDF above. Plot the log normal distribution over the histogram using the histogram code above. Make sure to use the same `x`-axis and `y`-axis labels as in the histogram plot above. Make sure to put a legend in the upper-right corner."
   ]
  },
  {
   "cell_type": "code",
   "execution_count": 52,
   "metadata": {},
   "outputs": [
    {
     "data": {
      "text/plain": [
       "<matplotlib.legend.Legend at 0x82319dc50>"
      ]
     },
     "execution_count": 52,
     "metadata": {},
     "output_type": "execute_result"
    },
    {
     "data": {
      "image/png": "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\n",
      "text/plain": [
       "<Figure size 432x288 with 1 Axes>"
      ]
     },
     "metadata": {
      "needs_background": "light"
     },
     "output_type": "display_data"
    }
   ],
   "source": [
    "import numpy as np\n",
    "import matplotlib.pyplot as plt\n",
    "\n",
    "\n",
    "xvals = np.linspace(1e-7,350000,30000)\n",
    "LN_pdf_vals =LN_pdf(xvals,mu=11.5, sigma=0.9)\n",
    "\n",
    "hh_inc_synth = np.loadtxt('data/hh_inc_synth.txt')\n",
    "\n",
    "bin_bound_list = [0, 10000, 100000, 160000, 350000]\n",
    "bin_widths = np.array([10000, 90000, 60000, 190000])\n",
    "N = len(hh_inc_synth)\n",
    "weight_inc = np.zeros(N)\n",
    "in_bin_1 = hh_inc_synth <= 10000\n",
    "in_bin_2 = (hh_inc_synth > 10000) * (hh_inc_synth <= 100000)\n",
    "in_bin_3 = (hh_inc_synth > 100000) * (hh_inc_synth <= 160000)\n",
    "in_bin_4 = hh_inc_synth > 160000\n",
    "weight_inc[in_bin_1] = 1 / (N * 10000)\n",
    "weight_inc[in_bin_2] = 1 / (N * 90000)\n",
    "weight_inc[in_bin_3] = 1 / (N * 60000)\n",
    "weight_inc[in_bin_4] = 1 / (N * 190000)\n",
    "\n",
    "n, bin_cuts, patches = \\\n",
    "    plt.hist(hh_inc_synth, bin_bound_list, edgecolor='black',\n",
    "             weights=weight_inc, label='data histogram')\n",
    "plt.plot(xvals,LN_pdf_vals,\n",
    "        label='log normal distribution')\n",
    "plt.title(r'Histogram of household income: $N=121,085$',\n",
    "          fontsize=13)\n",
    "plt.xticks(np.array([0, 10000, 100000, 160000, 350000]),\n",
    "           ('$0', '$10', '$100', '$160', '$350'))\n",
    "plt.xlabel(r'Household income (\\$000)')\n",
    "plt.ylabel(r'Density (area sums to 1)')\n",
    "plt.legend(loc=\"upper right\")"
   ]
  },
  {
   "cell_type": "markdown",
   "metadata": {},
   "source": [
    "# 2. Generalized method of moments estimation [10 points total]\n",
    "Suppose that your friend at the Bureau of Labor Statistics told you the following four moments (statistics) of the U.S. household income distribution in the third column of the table.\n",
    "\n",
    "| Income range | Number of households |Percent of population |\n",
    "| :--- | ---: | :---: |\n",
    "| Less than \\\\$10,000 | 9,233 | 7.6\\% |\n",
    "| \\\\$10,000 to \\\\$100,000 | 86,431 | 71.4\\% |\n",
    "| \\\\$100,000 to \\\\$160,000 | 16,347 | 13.5\\% |\n",
    "| Greater than \\\\$160,000 | 9,074 | 7.5\\% |\n",
    "\n",
    "Assume that these incomes are generated by the lognormal distribution, specified by the following probability density function (PDF).\n",
    "\n",
    "\\begin{equation*}\n",
    "\\begin{split}\n",
    "&(LN) \\quad f(x|\\mu,\\sigma) = \\frac{1}{x\\sigma\\sqrt{2\\pi}}e^{-\\frac{[\\ln(x)] - \\mu]^2}{2\\sigma^2}} \\\\\n",
    "&\\quad\\quad\\quad\\text{for}\\quad x>0, \\quad -\\infty<\\mu<\\infty, \\quad\\text{and}\\quad \\sigma>0\n",
    "\\end{split}\n",
    "\\end{equation*}"
   ]
  },
  {
   "cell_type": "markdown",
   "metadata": {},
   "source": [
<<<<<<< HEAD
    "## 2b) GMM estimation with identity weighting matrix (5 points)\n",
    "- Using the four moments in the table above fit the log normal distribution to the income data using GMM and the identity matix for the optimal weighting matrix. \n",
    "- More specifically, estimate $\\mu$ and $\\sigma$ from the log normal distribution to match the percentage moments in the third column of the table above with the income bin cutoffs listed in the first column of the table above. \n",
    "- Report your estimates $\\mu_{GMM1}$ and $\\sigma_{GMM1}$, criterion function value, data moments, and model moments at your estimated parameter values. \n",
    "- Plot your estimated log normal distribution on top of the histogram of the data given in the code above. [**HINT:** Use the log normal CDF approach described above to calculate your model moments. Using numerical integrals will take too long.]"
=======
    "## 2b) GMM estimation with identity weighting matrix (8 points)\n",
    "Using the four moments in the table above fit the log normal distribution to the income data using GMM and the identity matix for the optimal weighting matrix. More specifically, estimate $\\mu$ and $\\sigma$ from the log normal distribution to match the percentage moments in the third column of the table above with the income bin cutoffs listed in the first column of the table above. Report your estimates $\\mu_{GMM1}$ and $\\sigma_{GMM1}$, criterion function value, data moments, and model moments at your estimated parameter values. Plot your estimated log normal distribution on top of the histogram of the data given in the code above. [**HINT:** Use the log normal CDF approach described above to calculate your model moments. Using numerical integrals will take too long.]"
>>>>>>> upstream/master
   ]
  },
  {
   "cell_type": "code",
   "execution_count": 54,
   "metadata": {},
   "outputs": [],
<<<<<<< HEAD
   "source": [
    "import numpy as np\n",
    "import matplotlib.pyplot as plt\n",
    "import scipy.optimize as opt\n",
    "from scipy.stats import lognorm\n",
    "import pandas as pd\n",
    "import scipy.integrate as intgr\n",
    "import numpy.linalg as lin"
   ]
  },
  {
   "cell_type": "code",
   "execution_count": 61,
   "metadata": {},
   "outputs": [],
   "source": [
    "def log_normal_pdf(xvals, mu, sigma):\n",
    "    return lognorm.pdf(xvals,s = abs(sigma), scale = np.exp(mu))\n",
    "\n",
    "def data_moments(xvals):\n",
    "    mean_data = xvals.mean()\n",
    "    std_data = xvals.std()\n",
    "    return mean_data, std_data\n",
    "\n",
    "def model_moments(mu, sigma):\n",
    "    mean_model = np.exp(mu+(sigma**2)/2)\n",
    "    std_model = np.sqrt(np.exp(2*mu+sigma**2)*(np.exp(sigma**2)-1))\n",
    "    return mean_model, std_model\n",
    "\n",
    "def err_vec(xvals, mu, sigma, simple):\n",
    "\n",
    "    mean_data, std_data = data_moments(xvals)\n",
    "    moms_data = np.array([[mean_data], [std_data]])\n",
    "    mean_model, std_model = model_moments(mu, sigma)\n",
    "    moms_model = np.array([[mean_model], [std_model]])\n",
    "    if simple:\n",
    "        err_vec = moms_model - moms_data\n",
    "    else:\n",
    "        err_vec = (moms_model - moms_data) / moms_data\n",
    "    \n",
    "    return err_vec\n",
    "\n",
    "def criterion(params, *args):\n",
    "\n",
    "    mu, sigma = params\n",
    "    xvals, W = args\n",
    "    err = err_vec(xvals, mu, sigma, simple=False)\n",
    "    crit_val = err.T @ W @ err\n",
    "    \n",
    "    return crit_val\n",
    "\n",
    "mu_init = 11.5\n",
    "sig_init = 0.9\n",
    "params_init = np.array([mu_init, sig_init])\n",
    "W_hat = np.eye(2)\n",
    "gmm_args = (hh_inc_synth, W_hat)\n",
    "results = opt.minimize(criterion, params_init, args=(gmm_args), tol=1e-14,\n",
    "                       method='L-BFGS-B', bounds=((1e-10, None), (1e-10, None)))\n",
    "mu_GMM1, sig_GMM1 = results.x"
   ]
  },
  {
   "cell_type": "code",
   "execution_count": 60,
   "metadata": {},
   "outputs": [
    {
     "name": "stdout",
     "output_type": "stream",
     "text": [
      "mu_GMM1= 10.81913753265375  sig_GMM1= 0.7711370193970853\n",
      "The value of GMM criterion function at the estimated parameter values:\n",
      " [[2.46410145e-16]]\n",
      "Mean of points = 67269.598228936 , Variance of points = 60632.291036072565\n",
      "Mean of model = 67269.59859952066 , Variance of model = 60632.29014483636\n",
      "Error vector= [ 5.50894715e-09 -1.46990356e-08]\n"
     ]
    }
   ],
   "source": [
    "print('mu_GMM1=', mu_GMM1, ' sig_GMM1=', sig_GMM1)\n",
    "func_value = results.fun\n",
    "mean_data, std_data = data_moments(hh_inc_synth)\n",
    "mean_model, std_model = model_moments(mu_GMM1, sig_GMM1)\n",
    "print(\"The value of GMM criterion function at \\\n",
    "the estimated parameter values:\\n\", func_value)\n",
    "print('Mean of points =', mean_data, ', Variance of points =', std_data)\n",
    "print('Mean of model =', mean_model, ', Variance of model =', std_model)\n",
    "err1 = err_vec(hh_inc_synth, mu_GMM1, sig_GMM1, False).reshape(2,)\n",
    "print('Error vector=', err1)"
   ]
  },
  {
   "cell_type": "code",
   "execution_count": 62,
   "metadata": {},
   "outputs": [
    {
     "data": {
      "text/plain": [
       "<matplotlib.legend.Legend at 0x1a2783bcf8>"
      ]
     },
     "execution_count": 62,
     "metadata": {},
     "output_type": "execute_result"
    },
    {
     "data": {
      "image/png": "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\n",
      "text/plain": [
       "<Figure size 432x288 with 1 Axes>"
      ]
     },
     "metadata": {
      "needs_background": "light"
     },
     "output_type": "display_data"
    }
   ],
   "source": [
    "import numpy as np\n",
    "import matplotlib.pyplot as plt\n",
    "\n",
    "hh_inc_synth = np.loadtxt('data/hh_inc_synth.txt')\n",
    "\n",
    "bin_bound_list = [0, 10000, 100000, 160000, 350000]\n",
    "bin_widths = np.array([10000, 90000, 60000, 190000])\n",
    "N = len(hh_inc_synth)\n",
    "weight_inc = np.zeros(N)\n",
    "in_bin_1 = hh_inc_synth <= 10000\n",
    "in_bin_2 = (hh_inc_synth > 10000) * (hh_inc_synth <= 100000)\n",
    "in_bin_3 = (hh_inc_synth > 100000) * (hh_inc_synth <= 160000)\n",
    "in_bin_4 = hh_inc_synth > 160000\n",
    "weight_inc[in_bin_1] = 1 / (N * 10000)\n",
    "weight_inc[in_bin_2] = 1 / (N * 90000)\n",
    "weight_inc[in_bin_3] = 1 / (N * 60000)\n",
    "weight_inc[in_bin_4] = 1 / (N * 190000)\n",
    "\n",
    "n, bin_cuts, patches = \\\n",
    "    plt.hist(hh_inc_synth, bin_bound_list, edgecolor='black',\n",
    "             weights=weight_inc, label='data histogram')\n",
    "plt.title(r'Histogram of household income: $N=121,085$',\n",
    "          fontsize=13)\n",
    "plt.xticks(np.array([0, 10000, 100000, 160000, 350000]),\n",
    "           ('$0', '$10', '$100', '$160', '$350'))\n",
    "plt.xlabel(r'Household income (\\$000)')\n",
    "plt.ylabel(r'Density (area sums to 1)')\n",
    "\n",
    "\n",
    "dist_pts = np.linspace(1e-9, 350000, 200000)\n",
    "mu_1 = mu_GMM1\n",
    "sig_1 = sig_GMM1\n",
    "plt.plot(dist_pts, log_normal_pdf(dist_pts, mu_1, sig_1),\n",
    "         linewidth=2, color='g', label='1: $\\mu_{GMM1}$,$\\sigma_{GMM1}$')\n",
    "plt.legend(loc='upper right')"
   ]
  },
  {
   "cell_type": "markdown",
   "metadata": {},
   "source": [
    "## 2c) GMM estimation with two-step optimal weighting matrix (3 points)\n",
    "Using the four moments in the table above fit the log normal distribution to the income data using GMM and the two-step optimal weighting matrix. More specifically, estimate $\\mu$ and $\\sigma$ from the log normal distribution to match the percentage moments in the third column of the table above with the income bin cutoffs listed in the first column of the table above. Report your estimates $\\mu_{GMM2}$ and $\\sigma_{GMM2}$, criterion function value, data moments, and model moments at your estimated parameter values. Plot your estimated log normal distribution on top of the histogram of the data given in the code above. [**HINT:** Use the log normal CDF approach described above to calculate your model moments. Using numerical integrals will take too long.]"
   ]
  },
  {
   "cell_type": "code",
   "execution_count": null,
   "metadata": {},
   "outputs": [],
=======
>>>>>>> upstream/master
   "source": []
  }
 ],
 "metadata": {
  "kernelspec": {
   "display_name": "Python 3",
   "language": "python",
   "name": "python3"
  },
  "language_info": {
   "codemirror_mode": {
    "name": "ipython",
    "version": 3
   },
   "file_extension": ".py",
   "mimetype": "text/x-python",
   "name": "python",
   "nbconvert_exporter": "python",
   "pygments_lexer": "ipython3",
   "version": "3.7.3"
  }
 },
 "nbformat": 4,
 "nbformat_minor": 4
}
